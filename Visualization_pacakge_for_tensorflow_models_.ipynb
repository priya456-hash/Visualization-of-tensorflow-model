{
  "nbformat": 4,
  "nbformat_minor": 0,
  "metadata": {
    "colab": {
      "name": "Visualization pacakge for tensorflow models .ipynb",
      "provenance": [],
      "collapsed_sections": [],
      "authorship_tag": "ABX9TyMsXUZ8Xuh+XHlZ3kFmlS5S",
      "include_colab_link": true
    },
    "kernelspec": {
      "name": "python3",
      "display_name": "Python 3"
    },
    "language_info": {
      "name": "python"
    },
    "accelerator": "GPU"
  },
  "cells": [
    {
      "cell_type": "markdown",
      "metadata": {
        "id": "view-in-github",
        "colab_type": "text"
      },
      "source": [
        "<a href=\"https://colab.research.google.com/github/priya456-hash/Visualization-of-tensorflow-model/blob/main/Visualization_pacakge_for_tensorflow_models_.ipynb\" target=\"_parent\"><img src=\"https://colab.research.google.com/assets/colab-badge.svg\" alt=\"Open In Colab\"/></a>"
      ]
    },
    {
      "cell_type": "code",
      "execution_count": 106,
      "metadata": {
        "colab": {
          "base_uri": "https://localhost:8080/"
        },
        "id": "aBk8AcEP9IM1",
        "outputId": "5578be12-1e23-4257-c212-c692b6f25591"
      },
      "outputs": [
        {
          "output_type": "stream",
          "name": "stdout",
          "text": [
            "Requirement already satisfied: tensorflow in /usr/local/lib/python3.7/dist-packages (2.8.0)\n",
            "Requirement already satisfied: termcolor>=1.1.0 in /usr/local/lib/python3.7/dist-packages (from tensorflow) (1.1.0)\n",
            "Requirement already satisfied: flatbuffers>=1.12 in /usr/local/lib/python3.7/dist-packages (from tensorflow) (2.0)\n",
            "Requirement already satisfied: keras-preprocessing>=1.1.1 in /usr/local/lib/python3.7/dist-packages (from tensorflow) (1.1.2)\n",
            "Requirement already satisfied: tensorflow-io-gcs-filesystem>=0.23.1 in /usr/local/lib/python3.7/dist-packages (from tensorflow) (0.24.0)\n",
            "Requirement already satisfied: astunparse>=1.6.0 in /usr/local/lib/python3.7/dist-packages (from tensorflow) (1.6.3)\n",
            "Requirement already satisfied: gast>=0.2.1 in /usr/local/lib/python3.7/dist-packages (from tensorflow) (0.5.3)\n",
            "Requirement already satisfied: typing-extensions>=3.6.6 in /usr/local/lib/python3.7/dist-packages (from tensorflow) (3.10.0.2)\n",
            "Requirement already satisfied: tf-estimator-nightly==2.8.0.dev2021122109 in /usr/local/lib/python3.7/dist-packages (from tensorflow) (2.8.0.dev2021122109)\n",
            "Requirement already satisfied: google-pasta>=0.1.1 in /usr/local/lib/python3.7/dist-packages (from tensorflow) (0.2.0)\n",
            "Requirement already satisfied: grpcio<2.0,>=1.24.3 in /usr/local/lib/python3.7/dist-packages (from tensorflow) (1.43.0)\n",
            "Requirement already satisfied: tensorboard<2.9,>=2.8 in /usr/local/lib/python3.7/dist-packages (from tensorflow) (2.8.0)\n",
            "Requirement already satisfied: opt-einsum>=2.3.2 in /usr/local/lib/python3.7/dist-packages (from tensorflow) (3.3.0)\n",
            "Requirement already satisfied: wrapt>=1.11.0 in /usr/local/lib/python3.7/dist-packages (from tensorflow) (1.13.3)\n",
            "Requirement already satisfied: keras<2.9,>=2.8.0rc0 in /usr/local/lib/python3.7/dist-packages (from tensorflow) (2.8.0)\n",
            "Requirement already satisfied: numpy>=1.20 in /usr/local/lib/python3.7/dist-packages (from tensorflow) (1.21.5)\n",
            "Requirement already satisfied: absl-py>=0.4.0 in /usr/local/lib/python3.7/dist-packages (from tensorflow) (1.0.0)\n",
            "Requirement already satisfied: protobuf>=3.9.2 in /usr/local/lib/python3.7/dist-packages (from tensorflow) (3.17.3)\n",
            "Requirement already satisfied: libclang>=9.0.1 in /usr/local/lib/python3.7/dist-packages (from tensorflow) (13.0.0)\n",
            "Requirement already satisfied: h5py>=2.9.0 in /usr/local/lib/python3.7/dist-packages (from tensorflow) (3.1.0)\n",
            "Requirement already satisfied: six>=1.12.0 in /usr/local/lib/python3.7/dist-packages (from tensorflow) (1.15.0)\n",
            "Requirement already satisfied: setuptools in /usr/local/lib/python3.7/dist-packages (from tensorflow) (57.4.0)\n",
            "Requirement already satisfied: wheel<1.0,>=0.23.0 in /usr/local/lib/python3.7/dist-packages (from astunparse>=1.6.0->tensorflow) (0.37.1)\n",
            "Requirement already satisfied: cached-property in /usr/local/lib/python3.7/dist-packages (from h5py>=2.9.0->tensorflow) (1.5.2)\n",
            "Requirement already satisfied: requests<3,>=2.21.0 in /usr/local/lib/python3.7/dist-packages (from tensorboard<2.9,>=2.8->tensorflow) (2.23.0)\n",
            "Requirement already satisfied: markdown>=2.6.8 in /usr/local/lib/python3.7/dist-packages (from tensorboard<2.9,>=2.8->tensorflow) (3.3.6)\n",
            "Requirement already satisfied: tensorboard-plugin-wit>=1.6.0 in /usr/local/lib/python3.7/dist-packages (from tensorboard<2.9,>=2.8->tensorflow) (1.8.1)\n",
            "Requirement already satisfied: werkzeug>=0.11.15 in /usr/local/lib/python3.7/dist-packages (from tensorboard<2.9,>=2.8->tensorflow) (1.0.1)\n",
            "Requirement already satisfied: google-auth-oauthlib<0.5,>=0.4.1 in /usr/local/lib/python3.7/dist-packages (from tensorboard<2.9,>=2.8->tensorflow) (0.4.6)\n",
            "Requirement already satisfied: tensorboard-data-server<0.7.0,>=0.6.0 in /usr/local/lib/python3.7/dist-packages (from tensorboard<2.9,>=2.8->tensorflow) (0.6.1)\n",
            "Requirement already satisfied: google-auth<3,>=1.6.3 in /usr/local/lib/python3.7/dist-packages (from tensorboard<2.9,>=2.8->tensorflow) (1.35.0)\n",
            "Requirement already satisfied: cachetools<5.0,>=2.0.0 in /usr/local/lib/python3.7/dist-packages (from google-auth<3,>=1.6.3->tensorboard<2.9,>=2.8->tensorflow) (4.2.4)\n",
            "Requirement already satisfied: pyasn1-modules>=0.2.1 in /usr/local/lib/python3.7/dist-packages (from google-auth<3,>=1.6.3->tensorboard<2.9,>=2.8->tensorflow) (0.2.8)\n",
            "Requirement already satisfied: rsa<5,>=3.1.4 in /usr/local/lib/python3.7/dist-packages (from google-auth<3,>=1.6.3->tensorboard<2.9,>=2.8->tensorflow) (4.8)\n",
            "Requirement already satisfied: requests-oauthlib>=0.7.0 in /usr/local/lib/python3.7/dist-packages (from google-auth-oauthlib<0.5,>=0.4.1->tensorboard<2.9,>=2.8->tensorflow) (1.3.1)\n",
            "Requirement already satisfied: importlib-metadata>=4.4 in /usr/local/lib/python3.7/dist-packages (from markdown>=2.6.8->tensorboard<2.9,>=2.8->tensorflow) (4.11.0)\n",
            "Requirement already satisfied: zipp>=0.5 in /usr/local/lib/python3.7/dist-packages (from importlib-metadata>=4.4->markdown>=2.6.8->tensorboard<2.9,>=2.8->tensorflow) (3.7.0)\n",
            "Requirement already satisfied: pyasn1<0.5.0,>=0.4.6 in /usr/local/lib/python3.7/dist-packages (from pyasn1-modules>=0.2.1->google-auth<3,>=1.6.3->tensorboard<2.9,>=2.8->tensorflow) (0.4.8)\n",
            "Requirement already satisfied: urllib3!=1.25.0,!=1.25.1,<1.26,>=1.21.1 in /usr/local/lib/python3.7/dist-packages (from requests<3,>=2.21.0->tensorboard<2.9,>=2.8->tensorflow) (1.24.3)\n",
            "Requirement already satisfied: idna<3,>=2.5 in /usr/local/lib/python3.7/dist-packages (from requests<3,>=2.21.0->tensorboard<2.9,>=2.8->tensorflow) (2.10)\n",
            "Requirement already satisfied: chardet<4,>=3.0.2 in /usr/local/lib/python3.7/dist-packages (from requests<3,>=2.21.0->tensorboard<2.9,>=2.8->tensorflow) (3.0.4)\n",
            "Requirement already satisfied: certifi>=2017.4.17 in /usr/local/lib/python3.7/dist-packages (from requests<3,>=2.21.0->tensorboard<2.9,>=2.8->tensorflow) (2021.10.8)\n",
            "Requirement already satisfied: oauthlib>=3.0.0 in /usr/local/lib/python3.7/dist-packages (from requests-oauthlib>=0.7.0->google-auth-oauthlib<0.5,>=0.4.1->tensorboard<2.9,>=2.8->tensorflow) (3.2.0)\n",
            "Requirement already satisfied: graphviz in /usr/local/lib/python3.7/dist-packages (0.10.1)\n"
          ]
        }
      ],
      "source": [
        "#Import required libraries \n",
        "import tensorflow as tf\n",
        "!pip install tensorflow\n",
        "!pip install graphviz\n",
        "from tensorflow.keras import layers, Sequential\n"
      ]
    },
    {
      "cell_type": "code",
      "source": [
        "from tensorflow.keras import layers, Sequential"
      ],
      "metadata": {
        "id": "13Cr3qEmBT_j"
      },
      "execution_count": 107,
      "outputs": []
    },
    {
      "cell_type": "code",
      "source": [
        "#model creation\n",
        "model = Sequential()\n",
        "model.add(layers.Dense(4, input_shape = (8,), activation = 'relu' ))\n",
        "model.add(layers.Dense(8, activation='relu'))\n",
        "model.add(layers.Dense(8, activation='relu'))\n",
        "model.add(layers.Dense(8, activation='relu'))\n",
        "model.add(layers.Dense(8, activation='relu'))\n",
        "model.add(layers.Dense(8, activation='relu'))\n",
        "model.compile(optimizer = 'adam', loss = 'crossentropy', metrics= ['accuracy'])"
      ],
      "metadata": {
        "id": "gSp7d-X4-ta7"
      },
      "execution_count": 108,
      "outputs": []
    },
    {
      "cell_type": "code",
      "source": [
        "model.get_config() #dictionary for model. "
      ],
      "metadata": {
        "colab": {
          "base_uri": "https://localhost:8080/"
        },
        "id": "U0i6t503BpIp",
        "outputId": "0e24e328-7def-4e4a-9755-0dbaa7706050"
      },
      "execution_count": 109,
      "outputs": [
        {
          "output_type": "execute_result",
          "data": {
            "text/plain": [
              "{'layers': [{'class_name': 'InputLayer',\n",
              "   'config': {'batch_input_shape': (None, 8),\n",
              "    'dtype': 'float32',\n",
              "    'name': 'dense_12_input',\n",
              "    'ragged': False,\n",
              "    'sparse': False}},\n",
              "  {'class_name': 'Dense',\n",
              "   'config': {'activation': 'relu',\n",
              "    'activity_regularizer': None,\n",
              "    'batch_input_shape': (None, 8),\n",
              "    'bias_constraint': None,\n",
              "    'bias_initializer': {'class_name': 'Zeros', 'config': {}},\n",
              "    'bias_regularizer': None,\n",
              "    'dtype': 'float32',\n",
              "    'kernel_constraint': None,\n",
              "    'kernel_initializer': {'class_name': 'GlorotUniform',\n",
              "     'config': {'seed': None}},\n",
              "    'kernel_regularizer': None,\n",
              "    'name': 'dense_12',\n",
              "    'trainable': True,\n",
              "    'units': 4,\n",
              "    'use_bias': True}},\n",
              "  {'class_name': 'Dense',\n",
              "   'config': {'activation': 'relu',\n",
              "    'activity_regularizer': None,\n",
              "    'bias_constraint': None,\n",
              "    'bias_initializer': {'class_name': 'Zeros', 'config': {}},\n",
              "    'bias_regularizer': None,\n",
              "    'dtype': 'float32',\n",
              "    'kernel_constraint': None,\n",
              "    'kernel_initializer': {'class_name': 'GlorotUniform',\n",
              "     'config': {'seed': None}},\n",
              "    'kernel_regularizer': None,\n",
              "    'name': 'dense_13',\n",
              "    'trainable': True,\n",
              "    'units': 8,\n",
              "    'use_bias': True}},\n",
              "  {'class_name': 'Dense',\n",
              "   'config': {'activation': 'relu',\n",
              "    'activity_regularizer': None,\n",
              "    'bias_constraint': None,\n",
              "    'bias_initializer': {'class_name': 'Zeros', 'config': {}},\n",
              "    'bias_regularizer': None,\n",
              "    'dtype': 'float32',\n",
              "    'kernel_constraint': None,\n",
              "    'kernel_initializer': {'class_name': 'GlorotUniform',\n",
              "     'config': {'seed': None}},\n",
              "    'kernel_regularizer': None,\n",
              "    'name': 'dense_14',\n",
              "    'trainable': True,\n",
              "    'units': 8,\n",
              "    'use_bias': True}},\n",
              "  {'class_name': 'Dense',\n",
              "   'config': {'activation': 'relu',\n",
              "    'activity_regularizer': None,\n",
              "    'bias_constraint': None,\n",
              "    'bias_initializer': {'class_name': 'Zeros', 'config': {}},\n",
              "    'bias_regularizer': None,\n",
              "    'dtype': 'float32',\n",
              "    'kernel_constraint': None,\n",
              "    'kernel_initializer': {'class_name': 'GlorotUniform',\n",
              "     'config': {'seed': None}},\n",
              "    'kernel_regularizer': None,\n",
              "    'name': 'dense_15',\n",
              "    'trainable': True,\n",
              "    'units': 8,\n",
              "    'use_bias': True}},\n",
              "  {'class_name': 'Dense',\n",
              "   'config': {'activation': 'relu',\n",
              "    'activity_regularizer': None,\n",
              "    'bias_constraint': None,\n",
              "    'bias_initializer': {'class_name': 'Zeros', 'config': {}},\n",
              "    'bias_regularizer': None,\n",
              "    'dtype': 'float32',\n",
              "    'kernel_constraint': None,\n",
              "    'kernel_initializer': {'class_name': 'GlorotUniform',\n",
              "     'config': {'seed': None}},\n",
              "    'kernel_regularizer': None,\n",
              "    'name': 'dense_16',\n",
              "    'trainable': True,\n",
              "    'units': 8,\n",
              "    'use_bias': True}},\n",
              "  {'class_name': 'Dense',\n",
              "   'config': {'activation': 'relu',\n",
              "    'activity_regularizer': None,\n",
              "    'bias_constraint': None,\n",
              "    'bias_initializer': {'class_name': 'Zeros', 'config': {}},\n",
              "    'bias_regularizer': None,\n",
              "    'dtype': 'float32',\n",
              "    'kernel_constraint': None,\n",
              "    'kernel_initializer': {'class_name': 'GlorotUniform',\n",
              "     'config': {'seed': None}},\n",
              "    'kernel_regularizer': None,\n",
              "    'name': 'dense_17',\n",
              "    'trainable': True,\n",
              "    'units': 8,\n",
              "    'use_bias': True}}],\n",
              " 'name': 'sequential_4'}"
            ]
          },
          "metadata": {},
          "execution_count": 109
        }
      ]
    },
    {
      "cell_type": "code",
      "source": [
        "model.get_config()['name'] # name of model"
      ],
      "metadata": {
        "colab": {
          "base_uri": "https://localhost:8080/",
          "height": 35
        },
        "id": "hhET2GyfBsV3",
        "outputId": "11e71fcf-2108-4cdb-ed19-555b4371b088"
      },
      "execution_count": 110,
      "outputs": [
        {
          "output_type": "execute_result",
          "data": {
            "application/vnd.google.colaboratory.intrinsic+json": {
              "type": "string"
            },
            "text/plain": [
              "'sequential_4'"
            ]
          },
          "metadata": {},
          "execution_count": 110
        }
      ]
    },
    {
      "cell_type": "code",
      "source": [
        " # Alignment of visuals \n",
        "import graphviz\n",
        "dot = graphviz.Digraph(comment = \"Neural Network\", graph_attr={\"spline\": \"false\", \"ranksep\": \"0.5\",\"rankdir\":\"LR\"})\n"
      ],
      "metadata": {
        "id": "bjbWj3TPCW07"
      },
      "execution_count": 124,
      "outputs": []
    },
    {
      "cell_type": "code",
      "source": [
        "#layers in the model\n",
        "layers = model.get_config()['layers'] \n",
        "layers\n"
      ],
      "metadata": {
        "colab": {
          "base_uri": "https://localhost:8080/"
        },
        "id": "QDgd3v8hBwNO",
        "outputId": "b3365a89-f1f6-4b66-cb76-5a92a63a5949"
      },
      "execution_count": 125,
      "outputs": [
        {
          "output_type": "execute_result",
          "data": {
            "text/plain": [
              "[{'class_name': 'InputLayer',\n",
              "  'config': {'batch_input_shape': (None, 8),\n",
              "   'dtype': 'float32',\n",
              "   'name': 'dense_12_input',\n",
              "   'ragged': False,\n",
              "   'sparse': False}},\n",
              " {'class_name': 'Dense',\n",
              "  'config': {'activation': 'relu',\n",
              "   'activity_regularizer': None,\n",
              "   'batch_input_shape': (None, 8),\n",
              "   'bias_constraint': None,\n",
              "   'bias_initializer': {'class_name': 'Zeros', 'config': {}},\n",
              "   'bias_regularizer': None,\n",
              "   'dtype': 'float32',\n",
              "   'kernel_constraint': None,\n",
              "   'kernel_initializer': {'class_name': 'GlorotUniform',\n",
              "    'config': {'seed': None}},\n",
              "   'kernel_regularizer': None,\n",
              "   'name': 'dense_12',\n",
              "   'trainable': True,\n",
              "   'units': 4,\n",
              "   'use_bias': True}},\n",
              " {'class_name': 'Dense',\n",
              "  'config': {'activation': 'relu',\n",
              "   'activity_regularizer': None,\n",
              "   'bias_constraint': None,\n",
              "   'bias_initializer': {'class_name': 'Zeros', 'config': {}},\n",
              "   'bias_regularizer': None,\n",
              "   'dtype': 'float32',\n",
              "   'kernel_constraint': None,\n",
              "   'kernel_initializer': {'class_name': 'GlorotUniform',\n",
              "    'config': {'seed': None}},\n",
              "   'kernel_regularizer': None,\n",
              "   'name': 'dense_13',\n",
              "   'trainable': True,\n",
              "   'units': 8,\n",
              "   'use_bias': True}},\n",
              " {'class_name': 'Dense',\n",
              "  'config': {'activation': 'relu',\n",
              "   'activity_regularizer': None,\n",
              "   'bias_constraint': None,\n",
              "   'bias_initializer': {'class_name': 'Zeros', 'config': {}},\n",
              "   'bias_regularizer': None,\n",
              "   'dtype': 'float32',\n",
              "   'kernel_constraint': None,\n",
              "   'kernel_initializer': {'class_name': 'GlorotUniform',\n",
              "    'config': {'seed': None}},\n",
              "   'kernel_regularizer': None,\n",
              "   'name': 'dense_14',\n",
              "   'trainable': True,\n",
              "   'units': 8,\n",
              "   'use_bias': True}},\n",
              " {'class_name': 'Dense',\n",
              "  'config': {'activation': 'relu',\n",
              "   'activity_regularizer': None,\n",
              "   'bias_constraint': None,\n",
              "   'bias_initializer': {'class_name': 'Zeros', 'config': {}},\n",
              "   'bias_regularizer': None,\n",
              "   'dtype': 'float32',\n",
              "   'kernel_constraint': None,\n",
              "   'kernel_initializer': {'class_name': 'GlorotUniform',\n",
              "    'config': {'seed': None}},\n",
              "   'kernel_regularizer': None,\n",
              "   'name': 'dense_15',\n",
              "   'trainable': True,\n",
              "   'units': 8,\n",
              "   'use_bias': True}},\n",
              " {'class_name': 'Dense',\n",
              "  'config': {'activation': 'relu',\n",
              "   'activity_regularizer': None,\n",
              "   'bias_constraint': None,\n",
              "   'bias_initializer': {'class_name': 'Zeros', 'config': {}},\n",
              "   'bias_regularizer': None,\n",
              "   'dtype': 'float32',\n",
              "   'kernel_constraint': None,\n",
              "   'kernel_initializer': {'class_name': 'GlorotUniform',\n",
              "    'config': {'seed': None}},\n",
              "   'kernel_regularizer': None,\n",
              "   'name': 'dense_16',\n",
              "   'trainable': True,\n",
              "   'units': 8,\n",
              "   'use_bias': True}},\n",
              " {'class_name': 'Dense',\n",
              "  'config': {'activation': 'relu',\n",
              "   'activity_regularizer': None,\n",
              "   'bias_constraint': None,\n",
              "   'bias_initializer': {'class_name': 'Zeros', 'config': {}},\n",
              "   'bias_regularizer': None,\n",
              "   'dtype': 'float32',\n",
              "   'kernel_constraint': None,\n",
              "   'kernel_initializer': {'class_name': 'GlorotUniform',\n",
              "    'config': {'seed': None}},\n",
              "   'kernel_regularizer': None,\n",
              "   'name': 'dense_17',\n",
              "   'trainable': True,\n",
              "   'units': 8,\n",
              "   'use_bias': True}}]"
            ]
          },
          "metadata": {},
          "execution_count": 125
        }
      ]
    },
    {
      "cell_type": "code",
      "source": [
        "layers[0] # first layer of our model. "
      ],
      "metadata": {
        "colab": {
          "base_uri": "https://localhost:8080/"
        },
        "id": "AX17H2S9B9C7",
        "outputId": "65c9cc22-b046-49de-de17-a7765f3d4aea"
      },
      "execution_count": 126,
      "outputs": [
        {
          "output_type": "execute_result",
          "data": {
            "text/plain": [
              "{'class_name': 'InputLayer',\n",
              " 'config': {'batch_input_shape': (None, 8),\n",
              "  'dtype': 'float32',\n",
              "  'name': 'dense_12_input',\n",
              "  'ragged': False,\n",
              "  'sparse': False}}"
            ]
          },
          "metadata": {},
          "execution_count": 126
        }
      ]
    },
    {
      "cell_type": "code",
      "source": [
        "#Fetching first layer \n",
        "inputs = layers[0]['config']['batch_input_shape'][1]\n",
        "inputs"
      ],
      "metadata": {
        "colab": {
          "base_uri": "https://localhost:8080/"
        },
        "id": "WZJUXd6WQ_QC",
        "outputId": "643d9ab7-641d-4799-f3b3-4cfbef5db973"
      },
      "execution_count": 127,
      "outputs": [
        {
          "output_type": "execute_result",
          "data": {
            "text/plain": [
              "8"
            ]
          },
          "metadata": {},
          "execution_count": 127
        }
      ]
    },
    {
      "cell_type": "code",
      "source": [
        "_= [dot.node(f'0 -{n}', shape = 'circle') for n in range(inputs)]"
      ],
      "metadata": {
        "id": "SSlIdWikREO0"
      },
      "execution_count": 128,
      "outputs": []
    },
    {
      "cell_type": "code",
      "source": [
        "#Visualization \n",
        "\n",
        "dot.format = 'svg'\n",
        "dot "
      ],
      "metadata": {
        "colab": {
          "base_uri": "https://localhost:8080/",
          "height": 755
        },
        "id": "ebwn345MRIVl",
        "outputId": "b449c36f-9bea-40d0-9b5e-7b3fadad474e"
      },
      "execution_count": 129,
      "outputs": [
        {
          "output_type": "execute_result",
          "data": {
            "text/plain": [
              "<graphviz.dot.Digraph at 0x7fb5e02e1890>"
            ],
            "image/svg+xml": "<?xml version=\"1.0\" encoding=\"UTF-8\" standalone=\"no\"?>\n<!DOCTYPE svg PUBLIC \"-//W3C//DTD SVG 1.1//EN\"\n \"http://www.w3.org/Graphics/SVG/1.1/DTD/svg11.dtd\">\n<!-- Generated by graphviz version 2.40.1 (20161225.0304)\n -->\n<!-- Title: %3 Pages: 1 -->\n<svg width=\"60pt\" height=\"550pt\"\n viewBox=\"0.00 0.00 60.00 550.00\" xmlns=\"http://www.w3.org/2000/svg\" xmlns:xlink=\"http://www.w3.org/1999/xlink\">\n<g id=\"graph0\" class=\"graph\" transform=\"scale(1 1) rotate(0) translate(4 545.9954)\">\n<title>%3</title>\n<polygon fill=\"#ffffff\" stroke=\"transparent\" points=\"-4,4 -4,-545.9954 55.9954,-545.9954 55.9954,4 -4,4\"/>\n<!-- 0 &#45;0 -->\n<g id=\"node1\" class=\"node\">\n<title>0 &#45;0</title>\n<ellipse fill=\"none\" stroke=\"#000000\" cx=\"25.9977\" cy=\"-25.9977\" rx=\"25.9954\" ry=\"25.9954\"/>\n<text text-anchor=\"middle\" x=\"25.9977\" y=\"-22.2977\" font-family=\"Times,serif\" font-size=\"14.00\" fill=\"#000000\">0 &#45;0</text>\n</g>\n<!-- 0 &#45;1 -->\n<g id=\"node2\" class=\"node\">\n<title>0 &#45;1</title>\n<ellipse fill=\"none\" stroke=\"#000000\" cx=\"25.9977\" cy=\"-95.9977\" rx=\"25.9954\" ry=\"25.9954\"/>\n<text text-anchor=\"middle\" x=\"25.9977\" y=\"-92.2977\" font-family=\"Times,serif\" font-size=\"14.00\" fill=\"#000000\">0 &#45;1</text>\n</g>\n<!-- 0 &#45;2 -->\n<g id=\"node3\" class=\"node\">\n<title>0 &#45;2</title>\n<ellipse fill=\"none\" stroke=\"#000000\" cx=\"25.9977\" cy=\"-165.9977\" rx=\"25.9954\" ry=\"25.9954\"/>\n<text text-anchor=\"middle\" x=\"25.9977\" y=\"-162.2977\" font-family=\"Times,serif\" font-size=\"14.00\" fill=\"#000000\">0 &#45;2</text>\n</g>\n<!-- 0 &#45;3 -->\n<g id=\"node4\" class=\"node\">\n<title>0 &#45;3</title>\n<ellipse fill=\"none\" stroke=\"#000000\" cx=\"25.9977\" cy=\"-235.9977\" rx=\"25.9954\" ry=\"25.9954\"/>\n<text text-anchor=\"middle\" x=\"25.9977\" y=\"-232.2977\" font-family=\"Times,serif\" font-size=\"14.00\" fill=\"#000000\">0 &#45;3</text>\n</g>\n<!-- 0 &#45;4 -->\n<g id=\"node5\" class=\"node\">\n<title>0 &#45;4</title>\n<ellipse fill=\"none\" stroke=\"#000000\" cx=\"25.9977\" cy=\"-305.9977\" rx=\"25.9954\" ry=\"25.9954\"/>\n<text text-anchor=\"middle\" x=\"25.9977\" y=\"-302.2977\" font-family=\"Times,serif\" font-size=\"14.00\" fill=\"#000000\">0 &#45;4</text>\n</g>\n<!-- 0 &#45;5 -->\n<g id=\"node6\" class=\"node\">\n<title>0 &#45;5</title>\n<ellipse fill=\"none\" stroke=\"#000000\" cx=\"25.9977\" cy=\"-375.9977\" rx=\"25.9954\" ry=\"25.9954\"/>\n<text text-anchor=\"middle\" x=\"25.9977\" y=\"-372.2977\" font-family=\"Times,serif\" font-size=\"14.00\" fill=\"#000000\">0 &#45;5</text>\n</g>\n<!-- 0 &#45;6 -->\n<g id=\"node7\" class=\"node\">\n<title>0 &#45;6</title>\n<ellipse fill=\"none\" stroke=\"#000000\" cx=\"25.9977\" cy=\"-445.9977\" rx=\"25.9954\" ry=\"25.9954\"/>\n<text text-anchor=\"middle\" x=\"25.9977\" y=\"-442.2977\" font-family=\"Times,serif\" font-size=\"14.00\" fill=\"#000000\">0 &#45;6</text>\n</g>\n<!-- 0 &#45;7 -->\n<g id=\"node8\" class=\"node\">\n<title>0 &#45;7</title>\n<ellipse fill=\"none\" stroke=\"#000000\" cx=\"25.9977\" cy=\"-515.9977\" rx=\"25.9954\" ry=\"25.9954\"/>\n<text text-anchor=\"middle\" x=\"25.9977\" y=\"-512.2977\" font-family=\"Times,serif\" font-size=\"14.00\" fill=\"#000000\">0 &#45;7</text>\n</g>\n</g>\n</svg>\n"
          },
          "metadata": {},
          "execution_count": 129
        }
      ]
    },
    {
      "cell_type": "code",
      "source": [
        "#getting other layers \n",
        "inputs = layers[0]['config']['batch_input_shape'][1]\n",
        "inputs \n",
        "\n"
      ],
      "metadata": {
        "colab": {
          "base_uri": "https://localhost:8080/"
        },
        "id": "KQI4N7SjRL4C",
        "outputId": "9190477f-bfc7-499e-cf2f-e6d76b1d5372"
      },
      "execution_count": 130,
      "outputs": [
        {
          "output_type": "execute_result",
          "data": {
            "text/plain": [
              "8"
            ]
          },
          "metadata": {},
          "execution_count": 130
        }
      ]
    },
    {
      "cell_type": "code",
      "source": [
        "_= [dot.node(f'0 -{n}', shape = 'circle') for n in range(inputs)]\n"
      ],
      "metadata": {
        "id": "9luEHORtS-kz"
      },
      "execution_count": 131,
      "outputs": []
    },
    {
      "cell_type": "code",
      "source": [
        "i = layers[1]['config']['units']\n",
        "i\n",
        "\n",
        "_ = [dot.node(f'1 -{n}' , shape = 'circle') for n in range(i)]"
      ],
      "metadata": {
        "id": "nNY2LmG5TDVB"
      },
      "execution_count": 132,
      "outputs": []
    },
    {
      "cell_type": "code",
      "source": [
        "#Edge to connect input and hidden layer \n",
        "edge = list()\n",
        "for a in range(inputs):\n",
        "    for b in range(i):\n",
        "        dot.edge(f'0-{a}', f'1-{b}')\n",
        "        edge\n",
        "  "
      ],
      "metadata": {
        "id": "o40dVlCnTZCD"
      },
      "execution_count": 133,
      "outputs": []
    },
    {
      "cell_type": "code",
      "source": [
        "#visualization \n",
        "dot.format = 'svg'\n",
        "dot \n"
      ],
      "metadata": {
        "colab": {
          "base_uri": "https://localhost:8080/",
          "height": 1000
        },
        "id": "7NaDBtXuToiy",
        "outputId": "1cc48f19-0e8c-4060-c3a5-6f5f8287a1bc"
      },
      "execution_count": 134,
      "outputs": [
        {
          "output_type": "execute_result",
          "data": {
            "text/plain": [
              "<graphviz.dot.Digraph at 0x7fb5e02e1890>"
            ],
            "image/svg+xml": "<?xml version=\"1.0\" encoding=\"UTF-8\" standalone=\"no\"?>\n<!DOCTYPE svg PUBLIC \"-//W3C//DTD SVG 1.1//EN\"\n \"http://www.w3.org/Graphics/SVG/1.1/DTD/svg11.dtd\">\n<!-- Generated by graphviz version 2.40.1 (20161225.0304)\n -->\n<!-- Title: %3 Pages: 1 -->\n<svg width=\"152pt\" height=\"1262pt\"\n viewBox=\"0.00 0.00 152.00 1262.00\" xmlns=\"http://www.w3.org/2000/svg\" xmlns:xlink=\"http://www.w3.org/1999/xlink\">\n<g id=\"graph0\" class=\"graph\" transform=\"scale(1 1) rotate(0) translate(4 1257.9977)\">\n<title>%3</title>\n<polygon fill=\"#ffffff\" stroke=\"transparent\" points=\"-4,4 -4,-1257.9977 148,-1257.9977 148,4 -4,4\"/>\n<!-- 0 &#45;0 -->\n<g id=\"node1\" class=\"node\">\n<title>0 &#45;0</title>\n<ellipse fill=\"none\" stroke=\"#000000\" cx=\"27\" cy=\"-25.9977\" rx=\"25.9954\" ry=\"25.9954\"/>\n<text text-anchor=\"middle\" x=\"27\" y=\"-22.2977\" font-family=\"Times,serif\" font-size=\"14.00\" fill=\"#000000\">0 &#45;0</text>\n</g>\n<!-- 0 &#45;1 -->\n<g id=\"node2\" class=\"node\">\n<title>0 &#45;1</title>\n<ellipse fill=\"none\" stroke=\"#000000\" cx=\"27\" cy=\"-95.9977\" rx=\"25.9954\" ry=\"25.9954\"/>\n<text text-anchor=\"middle\" x=\"27\" y=\"-92.2977\" font-family=\"Times,serif\" font-size=\"14.00\" fill=\"#000000\">0 &#45;1</text>\n</g>\n<!-- 0 &#45;2 -->\n<g id=\"node3\" class=\"node\">\n<title>0 &#45;2</title>\n<ellipse fill=\"none\" stroke=\"#000000\" cx=\"27\" cy=\"-165.9977\" rx=\"25.9954\" ry=\"25.9954\"/>\n<text text-anchor=\"middle\" x=\"27\" y=\"-162.2977\" font-family=\"Times,serif\" font-size=\"14.00\" fill=\"#000000\">0 &#45;2</text>\n</g>\n<!-- 0 &#45;3 -->\n<g id=\"node4\" class=\"node\">\n<title>0 &#45;3</title>\n<ellipse fill=\"none\" stroke=\"#000000\" cx=\"27\" cy=\"-235.9977\" rx=\"25.9954\" ry=\"25.9954\"/>\n<text text-anchor=\"middle\" x=\"27\" y=\"-232.2977\" font-family=\"Times,serif\" font-size=\"14.00\" fill=\"#000000\">0 &#45;3</text>\n</g>\n<!-- 0 &#45;4 -->\n<g id=\"node5\" class=\"node\">\n<title>0 &#45;4</title>\n<ellipse fill=\"none\" stroke=\"#000000\" cx=\"27\" cy=\"-305.9977\" rx=\"25.9954\" ry=\"25.9954\"/>\n<text text-anchor=\"middle\" x=\"27\" y=\"-302.2977\" font-family=\"Times,serif\" font-size=\"14.00\" fill=\"#000000\">0 &#45;4</text>\n</g>\n<!-- 0 &#45;5 -->\n<g id=\"node6\" class=\"node\">\n<title>0 &#45;5</title>\n<ellipse fill=\"none\" stroke=\"#000000\" cx=\"27\" cy=\"-375.9977\" rx=\"25.9954\" ry=\"25.9954\"/>\n<text text-anchor=\"middle\" x=\"27\" y=\"-372.2977\" font-family=\"Times,serif\" font-size=\"14.00\" fill=\"#000000\">0 &#45;5</text>\n</g>\n<!-- 0 &#45;6 -->\n<g id=\"node7\" class=\"node\">\n<title>0 &#45;6</title>\n<ellipse fill=\"none\" stroke=\"#000000\" cx=\"27\" cy=\"-445.9977\" rx=\"25.9954\" ry=\"25.9954\"/>\n<text text-anchor=\"middle\" x=\"27\" y=\"-442.2977\" font-family=\"Times,serif\" font-size=\"14.00\" fill=\"#000000\">0 &#45;6</text>\n</g>\n<!-- 0 &#45;7 -->\n<g id=\"node8\" class=\"node\">\n<title>0 &#45;7</title>\n<ellipse fill=\"none\" stroke=\"#000000\" cx=\"27\" cy=\"-515.9977\" rx=\"25.9954\" ry=\"25.9954\"/>\n<text text-anchor=\"middle\" x=\"27\" y=\"-512.2977\" font-family=\"Times,serif\" font-size=\"14.00\" fill=\"#000000\">0 &#45;7</text>\n</g>\n<!-- 1 &#45;0 -->\n<g id=\"node9\" class=\"node\">\n<title>1 &#45;0</title>\n<ellipse fill=\"none\" stroke=\"#000000\" cx=\"27\" cy=\"-585.9977\" rx=\"25.9954\" ry=\"25.9954\"/>\n<text text-anchor=\"middle\" x=\"27\" y=\"-582.2977\" font-family=\"Times,serif\" font-size=\"14.00\" fill=\"#000000\">1 &#45;0</text>\n</g>\n<!-- 1 &#45;1 -->\n<g id=\"node10\" class=\"node\">\n<title>1 &#45;1</title>\n<ellipse fill=\"none\" stroke=\"#000000\" cx=\"27\" cy=\"-655.9977\" rx=\"25.9954\" ry=\"25.9954\"/>\n<text text-anchor=\"middle\" x=\"27\" y=\"-652.2977\" font-family=\"Times,serif\" font-size=\"14.00\" fill=\"#000000\">1 &#45;1</text>\n</g>\n<!-- 1 &#45;2 -->\n<g id=\"node11\" class=\"node\">\n<title>1 &#45;2</title>\n<ellipse fill=\"none\" stroke=\"#000000\" cx=\"27\" cy=\"-725.9977\" rx=\"25.9954\" ry=\"25.9954\"/>\n<text text-anchor=\"middle\" x=\"27\" y=\"-722.2977\" font-family=\"Times,serif\" font-size=\"14.00\" fill=\"#000000\">1 &#45;2</text>\n</g>\n<!-- 1 &#45;3 -->\n<g id=\"node12\" class=\"node\">\n<title>1 &#45;3</title>\n<ellipse fill=\"none\" stroke=\"#000000\" cx=\"27\" cy=\"-795.9977\" rx=\"25.9954\" ry=\"25.9954\"/>\n<text text-anchor=\"middle\" x=\"27\" y=\"-792.2977\" font-family=\"Times,serif\" font-size=\"14.00\" fill=\"#000000\">1 &#45;3</text>\n</g>\n<!-- 0&#45;0 -->\n<g id=\"node13\" class=\"node\">\n<title>0&#45;0</title>\n<ellipse fill=\"none\" stroke=\"#000000\" cx=\"27\" cy=\"-911.9977\" rx=\"27\" ry=\"18\"/>\n<text text-anchor=\"middle\" x=\"27\" y=\"-908.2977\" font-family=\"Times,serif\" font-size=\"14.00\" fill=\"#000000\">0&#45;0</text>\n</g>\n<!-- 1&#45;0 -->\n<g id=\"node14\" class=\"node\">\n<title>1&#45;0</title>\n<ellipse fill=\"none\" stroke=\"#000000\" cx=\"117\" cy=\"-1019.9977\" rx=\"27\" ry=\"18\"/>\n<text text-anchor=\"middle\" x=\"117\" y=\"-1016.2977\" font-family=\"Times,serif\" font-size=\"14.00\" fill=\"#000000\">1&#45;0</text>\n</g>\n<!-- 0&#45;0&#45;&gt;1&#45;0 -->\n<g id=\"edge1\" class=\"edge\">\n<title>0&#45;0&#45;&gt;1&#45;0</title>\n<path fill=\"none\" stroke=\"#000000\" d=\"M42.9703,-926.92C46.7402,-930.7217 50.6378,-934.8964 54,-938.9977 72.287,-961.3043 71.713,-970.6911 90,-992.9977 91.2608,-994.5357 92.597,-996.084 93.9734,-997.6191\"/>\n<polygon fill=\"#000000\" stroke=\"#000000\" points=\"91.614,-1000.2179 101.0297,-1005.0754 96.6983,-995.4064 91.614,-1000.2179\"/>\n</g>\n<!-- 1&#45;1 -->\n<g id=\"node15\" class=\"node\">\n<title>1&#45;1</title>\n<ellipse fill=\"none\" stroke=\"#000000\" cx=\"117\" cy=\"-965.9977\" rx=\"27\" ry=\"18\"/>\n<text text-anchor=\"middle\" x=\"117\" y=\"-962.2977\" font-family=\"Times,serif\" font-size=\"14.00\" fill=\"#000000\">1&#45;1</text>\n</g>\n<!-- 0&#45;0&#45;&gt;1&#45;1 -->\n<g id=\"edge2\" class=\"edge\">\n<title>0&#45;0&#45;&gt;1&#45;1</title>\n<path fill=\"none\" stroke=\"#000000\" d=\"M47.4224,-924.2511C59.3897,-931.4315 74.7024,-940.6191 87.9143,-948.5463\"/>\n<polygon fill=\"#000000\" stroke=\"#000000\" points=\"86.2827,-951.649 96.6584,-953.7927 89.8842,-945.6465 86.2827,-951.649\"/>\n</g>\n<!-- 1&#45;2 -->\n<g id=\"node16\" class=\"node\">\n<title>1&#45;2</title>\n<ellipse fill=\"none\" stroke=\"#000000\" cx=\"117\" cy=\"-1127.9977\" rx=\"27\" ry=\"18\"/>\n<text text-anchor=\"middle\" x=\"117\" y=\"-1124.2977\" font-family=\"Times,serif\" font-size=\"14.00\" fill=\"#000000\">1&#45;2</text>\n</g>\n<!-- 0&#45;0&#45;&gt;1&#45;2 -->\n<g id=\"edge3\" class=\"edge\">\n<title>0&#45;0&#45;&gt;1&#45;2</title>\n<path fill=\"none\" stroke=\"#000000\" d=\"M44.1191,-926.1435C47.8543,-929.9687 51.448,-934.3488 54,-938.9977 89.4922,-1003.6529 54.5078,-1036.3424 90,-1100.9977 90.957,-1102.741 92.0605,-1104.4466 93.263,-1106.0992\"/>\n<polygon fill=\"#000000\" stroke=\"#000000\" points=\"90.7263,-1108.5185 99.8809,-1113.8519 96.0504,-1103.9737 90.7263,-1108.5185\"/>\n</g>\n<!-- 1&#45;3 -->\n<g id=\"node17\" class=\"node\">\n<title>1&#45;3</title>\n<ellipse fill=\"none\" stroke=\"#000000\" cx=\"117\" cy=\"-1073.9977\" rx=\"27\" ry=\"18\"/>\n<text text-anchor=\"middle\" x=\"117\" y=\"-1070.2977\" font-family=\"Times,serif\" font-size=\"14.00\" fill=\"#000000\">1&#45;3</text>\n</g>\n<!-- 0&#45;0&#45;&gt;1&#45;3 -->\n<g id=\"edge4\" class=\"edge\">\n<title>0&#45;0&#45;&gt;1&#45;3</title>\n<path fill=\"none\" stroke=\"#000000\" d=\"M43.7843,-926.3387C47.5296,-930.158 51.2119,-934.4864 54,-938.9977 80.6001,-982.0376 63.3999,-1003.9578 90,-1046.9977 91.0455,-1048.6894 92.2168,-1050.3554 93.47,-1051.9785\"/>\n<polygon fill=\"#000000\" stroke=\"#000000\" points=\"90.9861,-1054.4542 100.2157,-1059.6567 96.2449,-1049.8341 90.9861,-1054.4542\"/>\n</g>\n<!-- 0&#45;1 -->\n<g id=\"node18\" class=\"node\">\n<title>0&#45;1</title>\n<ellipse fill=\"none\" stroke=\"#000000\" cx=\"27\" cy=\"-857.9977\" rx=\"27\" ry=\"18\"/>\n<text text-anchor=\"middle\" x=\"27\" y=\"-854.2977\" font-family=\"Times,serif\" font-size=\"14.00\" fill=\"#000000\">0&#45;1</text>\n</g>\n<!-- 0&#45;1&#45;&gt;1&#45;0 -->\n<g id=\"edge5\" class=\"edge\">\n<title>0&#45;1&#45;&gt;1&#45;0</title>\n<path fill=\"none\" stroke=\"#000000\" d=\"M43.7843,-872.3387C47.5296,-876.158 51.2119,-880.4864 54,-884.9977 80.6001,-928.0376 63.3999,-949.9578 90,-992.9977 91.0455,-994.6894 92.2168,-996.3554 93.47,-997.9785\"/>\n<polygon fill=\"#000000\" stroke=\"#000000\" points=\"90.9861,-1000.4542 100.2157,-1005.6567 96.2449,-995.8341 90.9861,-1000.4542\"/>\n</g>\n<!-- 0&#45;1&#45;&gt;1&#45;1 -->\n<g id=\"edge6\" class=\"edge\">\n<title>0&#45;1&#45;&gt;1&#45;1</title>\n<path fill=\"none\" stroke=\"#000000\" d=\"M42.4782,-872.8139C46.3395,-876.6878 50.4025,-880.9225 54,-884.9977 70.0162,-903.1406 86.7742,-924.8366 98.9769,-941.2063\"/>\n<polygon fill=\"#000000\" stroke=\"#000000\" points=\"96.4945,-943.7361 105.2539,-949.6962 102.1231,-939.5745 96.4945,-943.7361\"/>\n</g>\n<!-- 0&#45;1&#45;&gt;1&#45;2 -->\n<g id=\"edge7\" class=\"edge\">\n<title>0&#45;1&#45;&gt;1&#45;2</title>\n<path fill=\"none\" stroke=\"#000000\" d=\"M44.2968,-872.049C48.0266,-875.8771 51.5733,-880.2822 54,-884.9977 98.5338,-971.5352 45.4662,-1014.4602 90,-1100.9977 90.91,-1102.766 91.9775,-1104.4907 93.1531,-1106.1576\"/>\n<polygon fill=\"#000000\" stroke=\"#000000\" points=\"90.5882,-1108.5456 99.7032,-1113.9464 95.9456,-1104.0402 90.5882,-1108.5456\"/>\n</g>\n<!-- 0&#45;1&#45;&gt;1&#45;3 -->\n<g id=\"edge8\" class=\"edge\">\n<title>0&#45;1&#45;&gt;1&#45;3</title>\n<path fill=\"none\" stroke=\"#000000\" d=\"M44.1191,-872.1435C47.8543,-875.9687 51.448,-880.3488 54,-884.9977 89.4922,-949.6529 54.5078,-982.3424 90,-1046.9977 90.957,-1048.741 92.0605,-1050.4466 93.263,-1052.0992\"/>\n<polygon fill=\"#000000\" stroke=\"#000000\" points=\"90.7263,-1054.5185 99.8809,-1059.8519 96.0504,-1049.9737 90.7263,-1054.5185\"/>\n</g>\n<!-- 0&#45;2 -->\n<g id=\"node19\" class=\"node\">\n<title>0&#45;2</title>\n<ellipse fill=\"none\" stroke=\"#000000\" cx=\"27\" cy=\"-1235.9977\" rx=\"27\" ry=\"18\"/>\n<text text-anchor=\"middle\" x=\"27\" y=\"-1232.2977\" font-family=\"Times,serif\" font-size=\"14.00\" fill=\"#000000\">0&#45;2</text>\n</g>\n<!-- 0&#45;2&#45;&gt;1&#45;0 -->\n<g id=\"edge9\" class=\"edge\">\n<title>0&#45;2&#45;&gt;1&#45;0</title>\n<path fill=\"none\" stroke=\"#000000\" d=\"M44.1191,-1221.8519C47.8543,-1218.0267 51.448,-1213.6466 54,-1208.9977 89.4922,-1144.3424 54.5078,-1111.6529 90,-1046.9977 90.957,-1045.2544 92.0605,-1043.5488 93.263,-1041.8962\"/>\n<polygon fill=\"#000000\" stroke=\"#000000\" points=\"96.0504,-1044.0217 99.8809,-1034.1435 90.7263,-1039.4769 96.0504,-1044.0217\"/>\n</g>\n<!-- 0&#45;2&#45;&gt;1&#45;1 -->\n<g id=\"edge10\" class=\"edge\">\n<title>0&#45;2&#45;&gt;1&#45;1</title>\n<path fill=\"none\" stroke=\"#000000\" d=\"M44.2968,-1221.9464C48.0266,-1218.1183 51.5733,-1213.7132 54,-1208.9977 98.5338,-1122.4602 45.4662,-1079.5352 90,-992.9977 90.91,-991.2294 91.9775,-989.5047 93.1531,-987.8378\"/>\n<polygon fill=\"#000000\" stroke=\"#000000\" points=\"95.9456,-989.9552 99.7032,-980.049 90.5882,-985.4498 95.9456,-989.9552\"/>\n</g>\n<!-- 0&#45;2&#45;&gt;1&#45;2 -->\n<g id=\"edge11\" class=\"edge\">\n<title>0&#45;2&#45;&gt;1&#45;2</title>\n<path fill=\"none\" stroke=\"#000000\" d=\"M42.4782,-1221.1815C46.3395,-1217.3076 50.4025,-1213.0729 54,-1208.9977 70.0162,-1190.8548 86.7742,-1169.1587 98.9769,-1152.7891\"/>\n<polygon fill=\"#000000\" stroke=\"#000000\" points=\"102.1231,-1154.4209 105.2539,-1144.2992 96.4945,-1150.2593 102.1231,-1154.4209\"/>\n</g>\n<!-- 0&#45;2&#45;&gt;1&#45;3 -->\n<g id=\"edge12\" class=\"edge\">\n<title>0&#45;2&#45;&gt;1&#45;3</title>\n<path fill=\"none\" stroke=\"#000000\" d=\"M43.7843,-1221.6567C47.5296,-1217.8374 51.2119,-1213.509 54,-1208.9977 80.6001,-1165.9578 63.3999,-1144.0376 90,-1100.9977 91.0455,-1099.306 92.2168,-1097.64 93.47,-1096.0169\"/>\n<polygon fill=\"#000000\" stroke=\"#000000\" points=\"96.2449,-1098.1613 100.2157,-1088.3387 90.9861,-1093.5412 96.2449,-1098.1613\"/>\n</g>\n<!-- 0&#45;3 -->\n<g id=\"node20\" class=\"node\">\n<title>0&#45;3</title>\n<ellipse fill=\"none\" stroke=\"#000000\" cx=\"27\" cy=\"-1181.9977\" rx=\"27\" ry=\"18\"/>\n<text text-anchor=\"middle\" x=\"27\" y=\"-1178.2977\" font-family=\"Times,serif\" font-size=\"14.00\" fill=\"#000000\">0&#45;3</text>\n</g>\n<!-- 0&#45;3&#45;&gt;1&#45;0 -->\n<g id=\"edge13\" class=\"edge\">\n<title>0&#45;3&#45;&gt;1&#45;0</title>\n<path fill=\"none\" stroke=\"#000000\" d=\"M43.7843,-1167.6567C47.5296,-1163.8374 51.2119,-1159.509 54,-1154.9977 80.6001,-1111.9578 63.3999,-1090.0376 90,-1046.9977 91.0455,-1045.306 92.2168,-1043.64 93.47,-1042.0169\"/>\n<polygon fill=\"#000000\" stroke=\"#000000\" points=\"96.2449,-1044.1613 100.2157,-1034.3387 90.9861,-1039.5412 96.2449,-1044.1613\"/>\n</g>\n<!-- 0&#45;3&#45;&gt;1&#45;1 -->\n<g id=\"edge14\" class=\"edge\">\n<title>0&#45;3&#45;&gt;1&#45;1</title>\n<path fill=\"none\" stroke=\"#000000\" d=\"M44.1191,-1167.8519C47.8543,-1164.0267 51.448,-1159.6466 54,-1154.9977 89.4922,-1090.3424 54.5078,-1057.6529 90,-992.9977 90.957,-991.2544 92.0605,-989.5488 93.263,-987.8962\"/>\n<polygon fill=\"#000000\" stroke=\"#000000\" points=\"96.0504,-990.0217 99.8809,-980.1435 90.7263,-985.4769 96.0504,-990.0217\"/>\n</g>\n<!-- 0&#45;3&#45;&gt;1&#45;2 -->\n<g id=\"edge15\" class=\"edge\">\n<title>0&#45;3&#45;&gt;1&#45;2</title>\n<path fill=\"none\" stroke=\"#000000\" d=\"M47.4224,-1169.7443C59.3897,-1162.5638 74.7024,-1153.3762 87.9143,-1145.4491\"/>\n<polygon fill=\"#000000\" stroke=\"#000000\" points=\"89.8842,-1148.3489 96.6584,-1140.2026 86.2827,-1142.3464 89.8842,-1148.3489\"/>\n</g>\n<!-- 0&#45;3&#45;&gt;1&#45;3 -->\n<g id=\"edge16\" class=\"edge\">\n<title>0&#45;3&#45;&gt;1&#45;3</title>\n<path fill=\"none\" stroke=\"#000000\" d=\"M42.9703,-1167.0754C46.7402,-1163.2737 50.6378,-1159.099 54,-1154.9977 72.287,-1132.6911 71.713,-1123.3043 90,-1100.9977 91.2608,-1099.4597 92.597,-1097.9114 93.9734,-1096.3763\"/>\n<polygon fill=\"#000000\" stroke=\"#000000\" points=\"96.6983,-1098.589 101.0297,-1088.92 91.614,-1093.7775 96.6983,-1098.589\"/>\n</g>\n<!-- 0&#45;4 -->\n<g id=\"node21\" class=\"node\">\n<title>0&#45;4</title>\n<ellipse fill=\"none\" stroke=\"#000000\" cx=\"27\" cy=\"-1127.9977\" rx=\"27\" ry=\"18\"/>\n<text text-anchor=\"middle\" x=\"27\" y=\"-1124.2977\" font-family=\"Times,serif\" font-size=\"14.00\" fill=\"#000000\">0&#45;4</text>\n</g>\n<!-- 0&#45;4&#45;&gt;1&#45;0 -->\n<g id=\"edge17\" class=\"edge\">\n<title>0&#45;4&#45;&gt;1&#45;0</title>\n<path fill=\"none\" stroke=\"#000000\" d=\"M42.9703,-1113.0754C46.7402,-1109.2737 50.6378,-1105.099 54,-1100.9977 72.287,-1078.6911 71.713,-1069.3043 90,-1046.9977 91.2608,-1045.4597 92.597,-1043.9114 93.9734,-1042.3763\"/>\n<polygon fill=\"#000000\" stroke=\"#000000\" points=\"96.6983,-1044.589 101.0297,-1034.92 91.614,-1039.7775 96.6983,-1044.589\"/>\n</g>\n<!-- 0&#45;4&#45;&gt;1&#45;1 -->\n<g id=\"edge18\" class=\"edge\">\n<title>0&#45;4&#45;&gt;1&#45;1</title>\n<path fill=\"none\" stroke=\"#000000\" d=\"M43.7843,-1113.6567C47.5296,-1109.8374 51.2119,-1105.509 54,-1100.9977 80.6001,-1057.9578 63.3999,-1036.0376 90,-992.9977 91.0455,-991.306 92.2168,-989.64 93.47,-988.0169\"/>\n<polygon fill=\"#000000\" stroke=\"#000000\" points=\"96.2449,-990.1613 100.2157,-980.3387 90.9861,-985.5412 96.2449,-990.1613\"/>\n</g>\n<!-- 0&#45;4&#45;&gt;1&#45;2 -->\n<g id=\"edge19\" class=\"edge\">\n<title>0&#45;4&#45;&gt;1&#45;2</title>\n<path fill=\"none\" stroke=\"#000000\" d=\"M54.003,-1127.9977C62.0277,-1127.9977 70.9665,-1127.9977 79.5309,-1127.9977\"/>\n<polygon fill=\"#000000\" stroke=\"#000000\" points=\"79.7051,-1131.4978 89.705,-1127.9977 79.705,-1124.4978 79.7051,-1131.4978\"/>\n</g>\n<!-- 0&#45;4&#45;&gt;1&#45;3 -->\n<g id=\"edge20\" class=\"edge\">\n<title>0&#45;4&#45;&gt;1&#45;3</title>\n<path fill=\"none\" stroke=\"#000000\" d=\"M47.4224,-1115.7443C59.3897,-1108.5638 74.7024,-1099.3762 87.9143,-1091.4491\"/>\n<polygon fill=\"#000000\" stroke=\"#000000\" points=\"89.8842,-1094.3489 96.6584,-1086.2026 86.2827,-1088.3464 89.8842,-1094.3489\"/>\n</g>\n<!-- 0&#45;5 -->\n<g id=\"node22\" class=\"node\">\n<title>0&#45;5</title>\n<ellipse fill=\"none\" stroke=\"#000000\" cx=\"27\" cy=\"-1073.9977\" rx=\"27\" ry=\"18\"/>\n<text text-anchor=\"middle\" x=\"27\" y=\"-1070.2977\" font-family=\"Times,serif\" font-size=\"14.00\" fill=\"#000000\">0&#45;5</text>\n</g>\n<!-- 0&#45;5&#45;&gt;1&#45;0 -->\n<g id=\"edge21\" class=\"edge\">\n<title>0&#45;5&#45;&gt;1&#45;0</title>\n<path fill=\"none\" stroke=\"#000000\" d=\"M47.4224,-1061.7443C59.3897,-1054.5638 74.7024,-1045.3762 87.9143,-1037.4491\"/>\n<polygon fill=\"#000000\" stroke=\"#000000\" points=\"89.8842,-1040.3489 96.6584,-1032.2026 86.2827,-1034.3464 89.8842,-1040.3489\"/>\n</g>\n<!-- 0&#45;5&#45;&gt;1&#45;1 -->\n<g id=\"edge22\" class=\"edge\">\n<title>0&#45;5&#45;&gt;1&#45;1</title>\n<path fill=\"none\" stroke=\"#000000\" d=\"M42.9703,-1059.0754C46.7402,-1055.2737 50.6378,-1051.099 54,-1046.9977 72.287,-1024.6911 71.713,-1015.3043 90,-992.9977 91.2608,-991.4597 92.597,-989.9114 93.9734,-988.3763\"/>\n<polygon fill=\"#000000\" stroke=\"#000000\" points=\"96.6983,-990.589 101.0297,-980.92 91.614,-985.7775 96.6983,-990.589\"/>\n</g>\n<!-- 0&#45;5&#45;&gt;1&#45;2 -->\n<g id=\"edge23\" class=\"edge\">\n<title>0&#45;5&#45;&gt;1&#45;2</title>\n<path fill=\"none\" stroke=\"#000000\" d=\"M47.4224,-1086.2511C59.3897,-1093.4315 74.7024,-1102.6191 87.9143,-1110.5463\"/>\n<polygon fill=\"#000000\" stroke=\"#000000\" points=\"86.2827,-1113.649 96.6584,-1115.7927 89.8842,-1107.6465 86.2827,-1113.649\"/>\n</g>\n<!-- 0&#45;5&#45;&gt;1&#45;3 -->\n<g id=\"edge24\" class=\"edge\">\n<title>0&#45;5&#45;&gt;1&#45;3</title>\n<path fill=\"none\" stroke=\"#000000\" d=\"M54.003,-1073.9977C62.0277,-1073.9977 70.9665,-1073.9977 79.5309,-1073.9977\"/>\n<polygon fill=\"#000000\" stroke=\"#000000\" points=\"79.7051,-1077.4978 89.705,-1073.9977 79.705,-1070.4978 79.7051,-1077.4978\"/>\n</g>\n<!-- 0&#45;6 -->\n<g id=\"node23\" class=\"node\">\n<title>0&#45;6</title>\n<ellipse fill=\"none\" stroke=\"#000000\" cx=\"27\" cy=\"-1019.9977\" rx=\"27\" ry=\"18\"/>\n<text text-anchor=\"middle\" x=\"27\" y=\"-1016.2977\" font-family=\"Times,serif\" font-size=\"14.00\" fill=\"#000000\">0&#45;6</text>\n</g>\n<!-- 0&#45;6&#45;&gt;1&#45;0 -->\n<g id=\"edge25\" class=\"edge\">\n<title>0&#45;6&#45;&gt;1&#45;0</title>\n<path fill=\"none\" stroke=\"#000000\" d=\"M54.003,-1019.9977C62.0277,-1019.9977 70.9665,-1019.9977 79.5309,-1019.9977\"/>\n<polygon fill=\"#000000\" stroke=\"#000000\" points=\"79.7051,-1023.4978 89.705,-1019.9977 79.705,-1016.4978 79.7051,-1023.4978\"/>\n</g>\n<!-- 0&#45;6&#45;&gt;1&#45;1 -->\n<g id=\"edge26\" class=\"edge\">\n<title>0&#45;6&#45;&gt;1&#45;1</title>\n<path fill=\"none\" stroke=\"#000000\" d=\"M47.4224,-1007.7443C59.3897,-1000.5638 74.7024,-991.3762 87.9143,-983.4491\"/>\n<polygon fill=\"#000000\" stroke=\"#000000\" points=\"89.8842,-986.3489 96.6584,-978.2026 86.2827,-980.3464 89.8842,-986.3489\"/>\n</g>\n<!-- 0&#45;6&#45;&gt;1&#45;2 -->\n<g id=\"edge27\" class=\"edge\">\n<title>0&#45;6&#45;&gt;1&#45;2</title>\n<path fill=\"none\" stroke=\"#000000\" d=\"M42.9703,-1034.92C46.7402,-1038.7217 50.6378,-1042.8964 54,-1046.9977 72.287,-1069.3043 71.713,-1078.6911 90,-1100.9977 91.2608,-1102.5357 92.597,-1104.084 93.9734,-1105.6191\"/>\n<polygon fill=\"#000000\" stroke=\"#000000\" points=\"91.614,-1108.2179 101.0297,-1113.0754 96.6983,-1103.4064 91.614,-1108.2179\"/>\n</g>\n<!-- 0&#45;6&#45;&gt;1&#45;3 -->\n<g id=\"edge28\" class=\"edge\">\n<title>0&#45;6&#45;&gt;1&#45;3</title>\n<path fill=\"none\" stroke=\"#000000\" d=\"M47.4224,-1032.2511C59.3897,-1039.4315 74.7024,-1048.6191 87.9143,-1056.5463\"/>\n<polygon fill=\"#000000\" stroke=\"#000000\" points=\"86.2827,-1059.649 96.6584,-1061.7927 89.8842,-1053.6465 86.2827,-1059.649\"/>\n</g>\n<!-- 0&#45;7 -->\n<g id=\"node24\" class=\"node\">\n<title>0&#45;7</title>\n<ellipse fill=\"none\" stroke=\"#000000\" cx=\"27\" cy=\"-965.9977\" rx=\"27\" ry=\"18\"/>\n<text text-anchor=\"middle\" x=\"27\" y=\"-962.2977\" font-family=\"Times,serif\" font-size=\"14.00\" fill=\"#000000\">0&#45;7</text>\n</g>\n<!-- 0&#45;7&#45;&gt;1&#45;0 -->\n<g id=\"edge29\" class=\"edge\">\n<title>0&#45;7&#45;&gt;1&#45;0</title>\n<path fill=\"none\" stroke=\"#000000\" d=\"M47.4224,-978.2511C59.3897,-985.4315 74.7024,-994.6191 87.9143,-1002.5463\"/>\n<polygon fill=\"#000000\" stroke=\"#000000\" points=\"86.2827,-1005.649 96.6584,-1007.7927 89.8842,-999.6465 86.2827,-1005.649\"/>\n</g>\n<!-- 0&#45;7&#45;&gt;1&#45;1 -->\n<g id=\"edge30\" class=\"edge\">\n<title>0&#45;7&#45;&gt;1&#45;1</title>\n<path fill=\"none\" stroke=\"#000000\" d=\"M54.003,-965.9977C62.0277,-965.9977 70.9665,-965.9977 79.5309,-965.9977\"/>\n<polygon fill=\"#000000\" stroke=\"#000000\" points=\"79.7051,-969.4978 89.705,-965.9977 79.705,-962.4978 79.7051,-969.4978\"/>\n</g>\n<!-- 0&#45;7&#45;&gt;1&#45;2 -->\n<g id=\"edge31\" class=\"edge\">\n<title>0&#45;7&#45;&gt;1&#45;2</title>\n<path fill=\"none\" stroke=\"#000000\" d=\"M43.7843,-980.3387C47.5296,-984.158 51.2119,-988.4864 54,-992.9977 80.6001,-1036.0376 63.3999,-1057.9578 90,-1100.9977 91.0455,-1102.6894 92.2168,-1104.3554 93.47,-1105.9785\"/>\n<polygon fill=\"#000000\" stroke=\"#000000\" points=\"90.9861,-1108.4542 100.2157,-1113.6567 96.2449,-1103.8341 90.9861,-1108.4542\"/>\n</g>\n<!-- 0&#45;7&#45;&gt;1&#45;3 -->\n<g id=\"edge32\" class=\"edge\">\n<title>0&#45;7&#45;&gt;1&#45;3</title>\n<path fill=\"none\" stroke=\"#000000\" d=\"M42.9703,-980.92C46.7402,-984.7217 50.6378,-988.8964 54,-992.9977 72.287,-1015.3043 71.713,-1024.6911 90,-1046.9977 91.2608,-1048.5357 92.597,-1050.084 93.9734,-1051.6191\"/>\n<polygon fill=\"#000000\" stroke=\"#000000\" points=\"91.614,-1054.2179 101.0297,-1059.0754 96.6983,-1049.4064 91.614,-1054.2179\"/>\n</g>\n</g>\n</svg>\n"
          },
          "metadata": {},
          "execution_count": 134
        }
      ]
    }
  ]
}